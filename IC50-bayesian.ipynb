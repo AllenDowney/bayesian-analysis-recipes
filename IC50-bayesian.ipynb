{
 "cells": [
  {
   "cell_type": "code",
   "execution_count": null,
   "metadata": {
    "deletable": true,
    "editable": true
   },
   "outputs": [],
   "source": [
    "import numpy as np\n",
    "import matplotlib.pyplot as plt\n",
    "import pymc3 as pm\n",
    "import pandas as pd\n",
    "\n",
    "%matplotlib inline\n",
    "%config InlineBackend.figure_format = 'retina'"
   ]
  },
  {
   "cell_type": "code",
   "execution_count": null,
   "metadata": {
    "deletable": true,
    "editable": true
   },
   "outputs": [],
   "source": [
    "# Generate some fake data.\n",
    "x_concs = np.arange(0, 100, 10).reshape(-1, 1)\n",
    "log_xconcs = np.log(x_concs)\n",
    "ic50_true = np.array([42, 13, 88])\n",
    "ic50_true = ic50_true.reshape(-1, ic50_true.shape[0])\n",
    "beta_true = 1\n",
    "slope_true = 1\n",
    "intercept_true = 150\n",
    "# y_true = slope_true * x_concs + intercept_true\n",
    "\n",
    "y_true = beta_true / (1 + np.exp(x_concs - ic50_true))\n",
    "\n",
    "y_noisy = y_true + np.random.normal(0, 0.05, size=y_true.shape)  # homoskedastic error\n",
    "y_noisy"
   ]
  },
  {
   "cell_type": "code",
   "execution_count": null,
   "metadata": {
    "deletable": true,
    "editable": true
   },
   "outputs": [],
   "source": [
    "plt.scatter(x_concs, y_noisy[:, 0])\n",
    "plt.scatter(x_concs, y_noisy[:, 1])\n",
    "plt.scatter(x_concs, y_noisy[:, 2])"
   ]
  },
  {
   "cell_type": "code",
   "execution_count": null,
   "metadata": {
    "deletable": true,
    "editable": true
   },
   "outputs": [],
   "source": [
    "concentrations = np.concatenate([x_concs] * ic50_true.shape[1])\n",
    "concentrations"
   ]
  },
  {
   "cell_type": "code",
   "execution_count": null,
   "metadata": {
    "deletable": true,
    "editable": true
   },
   "outputs": [],
   "source": [
    "concentrations.shape"
   ]
  },
  {
   "cell_type": "code",
   "execution_count": null,
   "metadata": {
    "deletable": true,
    "editable": true
   },
   "outputs": [],
   "source": [
    "y_noisy.flatten(order='F')"
   ]
  },
  {
   "cell_type": "code",
   "execution_count": null,
   "metadata": {},
   "outputs": [],
   "source": [
    "x_concs.shape[0]"
   ]
  },
  {
   "cell_type": "code",
   "execution_count": null,
   "metadata": {
    "deletable": true,
    "editable": true
   },
   "outputs": [],
   "source": [
    "data = pd.DataFrame()\n",
    "data['concentrations'] = concentrations.reshape(concentrations.shape[0],)\n",
    "data['measurements'] = y_noisy.flatten(order='F')\n",
    "\n",
    "drugs = []\n",
    "for i in range(ic50_true.shape[1]):\n",
    "    drugs.extend([i] * x_concs.shape[0])\n",
    "data['drug'] = drugs\n",
    "\n",
    "from sklearn.preprocessing import LabelEncoder, MinMaxScaler\n",
    "\n",
    "le = LabelEncoder()\n",
    "data['idxs'] = le.fit_transform(data['drug'])\n",
    "\n",
    "# Normalize data['measurements'] to 0-1\n",
    "# mms = MinMaxScaler()\n",
    "# data['measurements'] = mms.fit_transform(data['measurements'].values.reshape(-1, 1))"
   ]
  },
  {
   "cell_type": "code",
   "execution_count": null,
   "metadata": {
    "deletable": true,
    "editable": true
   },
   "outputs": [],
   "source": [
    "data"
   ]
  },
  {
   "cell_type": "code",
   "execution_count": null,
   "metadata": {
    "deletable": true,
    "editable": true
   },
   "outputs": [],
   "source": [
    "with pm.Model() as model:\n",
    "    beta = pm.Normal('beta', mu=0, sd=100**2, shape=len(set(data['idxs'])))    \n",
    "    noise = pm.HalfCauchy('noise', beta=100**2, shape=len(set(data['idxs'])))\n",
    "    ic50 = pm.Normal('IC50', sd=100**2, shape=len(set(data['idxs'])))\n",
    "    measurements = beta[data['idxs']] / (1 + np.exp(data['concentrations'].values - ic50[data['idxs']]))\n",
    "\n",
    "    \n",
    "    y_like = pm.Normal('y_like', mu=measurements, sd=noise[data['idxs']], observed=data['measurements'])"
   ]
  },
  {
   "cell_type": "code",
   "execution_count": null,
   "metadata": {
    "deletable": true,
    "editable": true
   },
   "outputs": [],
   "source": [
    "with model:\n",
    "    trace = pm.sample(draws=10000, step=pm.Metropolis(), start=pm.find_MAP())"
   ]
  },
  {
   "cell_type": "code",
   "execution_count": null,
   "metadata": {
    "deletable": true,
    "editable": true
   },
   "outputs": [],
   "source": [
    "pm.traceplot(trace)"
   ]
  },
  {
   "cell_type": "code",
   "execution_count": null,
   "metadata": {
    "deletable": true,
    "editable": true
   },
   "outputs": [],
   "source": [
    "pm.summary(trace)"
   ]
  },
  {
   "cell_type": "code",
   "execution_count": null,
   "metadata": {
    "deletable": true,
    "editable": true
   },
   "outputs": [],
   "source": []
  },
  {
   "cell_type": "code",
   "execution_count": null,
   "metadata": {
    "deletable": true,
    "editable": true
   },
   "outputs": [],
   "source": []
  }
 ],
 "metadata": {
  "kernelspec": {
   "display_name": "Python 3",
   "language": "python",
   "name": "python3"
  },
  "language_info": {
   "codemirror_mode": {
    "name": "ipython",
    "version": 3
   },
   "file_extension": ".py",
   "mimetype": "text/x-python",
   "name": "python",
   "nbconvert_exporter": "python",
   "pygments_lexer": "ipython3",
   "version": "3.6.0"
  }
 },
 "nbformat": 4,
 "nbformat_minor": 2
}
