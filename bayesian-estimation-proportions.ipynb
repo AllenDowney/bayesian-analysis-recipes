{
 "cells": [
  {
   "cell_type": "code",
   "execution_count": null,
   "metadata": {
    "deletable": true,
    "editable": true
   },
   "outputs": [],
   "source": [
    "import numpy as np\n",
    "import pandas as pd\n",
    "import matplotlib.pyplot as plt\n",
    "import pymc3 as pm\n",
    "import numpy.random as npr\n",
    "\n",
    "%matplotlib inline"
   ]
  },
  {
   "cell_type": "markdown",
   "metadata": {
    "deletable": true,
    "editable": true
   },
   "source": [
    "We're going to see how to use Bayesian Poisson estimation to model proportion data.\n",
    "\n",
    "Let's say there are three bacteria species that characterize the gut, and we hypothesize that they are ever so shifted off from one another, but we don't know how (i.e. ignore the data-generating distribution below). Can we figure out the proportion parameters and their uncertainty?\n",
    "\n",
    "Here, every patient is one sample, and we are recording the number of sequencing reads corresponding to some OTUs (bacteria). Each row is one sample (patient), and each column is one OTU (sample)."
   ]
  },
  {
   "cell_type": "code",
   "execution_count": null,
   "metadata": {
    "deletable": true,
    "editable": true
   },
   "outputs": [],
   "source": [
    "def proportion(arr):\n",
    "    return arr / arr.sum()\n",
    "\n",
    "healthy_proportions = np.array([10, 16, 2]) / np.sum([10, 16, 2])\n",
    "healthy_proportions"
   ]
  },
  {
   "cell_type": "code",
   "execution_count": null,
   "metadata": {
    "deletable": true,
    "editable": true
   },
   "outputs": [],
   "source": [
    "sick_proportions = np.array([10, 27, 15]) / np.sum([10, 27, 15])\n",
    "sick_proportions"
   ]
  },
  {
   "cell_type": "code",
   "execution_count": null,
   "metadata": {
    "deletable": true,
    "editable": true
   },
   "outputs": [],
   "source": [
    "n_data_points = 100\n",
    "\n",
    "def make_healthy_multinomial(arr):\n",
    "    n_sequencing_reads = npr.poisson(lam=50)\n",
    "    return npr.multinomial(n_sequencing_reads, healthy_proportions)\n",
    "\n",
    "def make_sick_multinomial(arr):\n",
    "    n_sequencing_reads = npr.poisson(lam=50)\n",
    "    return npr.multinomial(n_sequencing_reads, sick_proportions)\n",
    "\n",
    "# Generate healthy data\n",
    "healthy_reads = np.zeros((n_data_points, 3))\n",
    "healthy_reads = np.apply_along_axis(make_healthy_multinomial, axis=1, arr=healthy_reads)\n",
    "\n",
    "# Generate sick reads\n",
    "sick_reads = np.zeros((n_data_points, 3))\n",
    "sick_reads = np.apply_along_axis(make_sick_multinomial, axis=1, arr=sick_reads)"
   ]
  },
  {
   "cell_type": "code",
   "execution_count": null,
   "metadata": {
    "deletable": true,
    "editable": true
   },
   "outputs": [],
   "source": [
    "# Make pandas dataframe\n",
    "healthy_df = pd.DataFrame(healthy_reads)\n",
    "healthy_df.columns = ['bacteria1', 'bacteria2', 'bacteria3']\n",
    "\n",
    "sick_df = pd.DataFrame(sick_reads)\n",
    "sick_df.columns = ['bacteria1', 'bacteria2', 'bacteria3']\n",
    "\n",
    "healthy_df.mean()"
   ]
  },
  {
   "cell_type": "code",
   "execution_count": null,
   "metadata": {
    "deletable": true,
    "editable": true
   },
   "outputs": [],
   "source": [
    "sick_df.mean()"
   ]
  },
  {
   "cell_type": "markdown",
   "metadata": {
    "deletable": true,
    "editable": true
   },
   "source": [
    "The modelling strategy here uses the raw data. We start by modelling the counts of the healthy and the sick peoples' bacteria (e.g. number of counts in sequencing reads), and deterministicaly computing the proportions (and their associated uncertainty).\n",
    "\n",
    "$$ \\mu_{healthy} \\sim DiscreteUniform(0, 100) $$\n",
    "\n",
    "$$ counts_{healthy} \\sim Poisson(\\mu_{healthy}) $$\n",
    "\n",
    "$$ p_{healthy} = \\frac{counts_{healthy, i}}{sum(counts_{healthy})} $$"
   ]
  },
  {
   "cell_type": "code",
   "execution_count": null,
   "metadata": {
    "deletable": true,
    "editable": true
   },
   "outputs": [],
   "source": [
    "with pm.Model() as poisson_model:\n",
    "    healthy_mu = pm.DiscreteUniform('healthy_mu', 0, 100, shape=(3,))\n",
    "    healthy_counts = pm.Poisson('healthy_counts', mu=healthy_mu, shape=(3,), observed=healthy_df)\n",
    "    healthy_proportions = pm.Deterministic('healthy_proportions', healthy_mu / healthy_mu.sum())\n",
    "    \n",
    "    sick_mu = pm.DiscreteUniform('sick_mu', 0, 100, shape=(3,))\n",
    "    sick_counts = pm.Poisson('sick_counts', mu=sick_mu, shape=(3,), observed=sick_df)\n",
    "    sick_proportions = pm.Deterministic('sick_proportions', sick_mu / sick_mu.sum())\n",
    "    \n",
    "    diff_proportions = pm.Deterministic('diff_proportions', healthy_proportions - sick_proportions)"
   ]
  },
  {
   "cell_type": "code",
   "execution_count": null,
   "metadata": {
    "deletable": true,
    "editable": true
   },
   "outputs": [],
   "source": [
    "with poisson_model:\n",
    "    poisson_trace = pm.sample(draws=10000)"
   ]
  },
  {
   "cell_type": "code",
   "execution_count": null,
   "metadata": {
    "deletable": true,
    "editable": true
   },
   "outputs": [],
   "source": [
    "pm.traceplot(poisson_trace[2000:])"
   ]
  },
  {
   "cell_type": "code",
   "execution_count": null,
   "metadata": {
    "deletable": true,
    "editable": true
   },
   "outputs": [],
   "source": [
    "pm.forestplot(poisson_trace, varnames=['healthy_proportions'])"
   ]
  },
  {
   "cell_type": "markdown",
   "metadata": {
    "deletable": true,
    "editable": true
   },
   "source": [
    "What happens if we don't have the raw counts data, but only the proportions? Can we use Bayesian estimation to help us find the population proportions for healthy, and its associated uncertainty?\n",
    "\n",
    "Firstly, we assume that the each of the `p`s come from a Uniform(0, 1). We won't restrict them to be summed to 1; the likelihood function will be the Student's T distribution."
   ]
  },
  {
   "cell_type": "code",
   "execution_count": null,
   "metadata": {
    "deletable": true,
    "editable": true
   },
   "outputs": [],
   "source": [
    "df = pd.concat([healthy_df, sick_df])\n",
    "df_norm = df.apply(lambda x: proportion(x), axis=1)\n",
    "df.head(5)"
   ]
  },
  {
   "cell_type": "code",
   "execution_count": null,
   "metadata": {
    "deletable": true,
    "editable": true
   },
   "outputs": [],
   "source": [
    "with pm.Model() as tdist_model:\n",
    "    p1 = pm.Uniform('p1', 0, 1)\n",
    "    p2 = pm.Uniform('p2', 0, 1)\n",
    "    p3 = pm.Deterministic('p3', 1 - p1 - p2)\n",
    "    # ps = pm.Uniform('ps', shape=(3,))\n",
    "    std = pm.Exponential('std', lam=0.5, shape=(3,))\n",
    "    nu = pm.Poisson('nu', mu=1, shape=(3,))\n",
    "    \n",
    "    like = pm.StudentT('like', mu=[p1, p2, p3], sd=std, nu=nu, observed=df_norm[0:n_data_points])"
   ]
  },
  {
   "cell_type": "code",
   "execution_count": null,
   "metadata": {
    "deletable": true,
    "editable": true
   },
   "outputs": [],
   "source": [
    "with model:\n",
    "    tdist_trace = pm.sample(draws=2000)"
   ]
  },
  {
   "cell_type": "code",
   "execution_count": null,
   "metadata": {
    "deletable": true,
    "editable": true
   },
   "outputs": [],
   "source": [
    "pm.traceplot(tdist_trace[200:])"
   ]
  },
  {
   "cell_type": "code",
   "execution_count": null,
   "metadata": {
    "deletable": true,
    "editable": true
   },
   "outputs": [],
   "source": [
    "tdist_trace['proportions'].mean(axis=0)"
   ]
  },
  {
   "cell_type": "code",
   "execution_count": null,
   "metadata": {
    "deletable": true,
    "editable": true
   },
   "outputs": [],
   "source": [
    "healthy_df.mean() / healthy_df.mean().sum()"
   ]
  },
  {
   "cell_type": "markdown",
   "metadata": {
    "deletable": true,
    "editable": true
   },
   "source": [
    "Here's a final formulation, using the Dirichlet/Multinomial distribution."
   ]
  },
  {
   "cell_type": "code",
   "execution_count": null,
   "metadata": {
    "deletable": true,
    "editable": true
   },
   "outputs": [],
   "source": [
    "with pm.Model() as dirichlet_model:\n",
    "    mu = pm.HalfNormal('mu', sd=100**2)\n",
    "    n_seq_reads = pm.Poisson('n_seq_reads', mu=mu, observed=healthy_reads.sum(axis=1))\n",
    "    proportions = pm.Dirichlet('proportions', a=np.ones(3), shape=(3,))\n",
    "    for i in range(healthy_reads.shape[0]):\n",
    "        draws = pm.Multinomial(f'draws_{i}', n=healthy_reads[i].sum(), p=proportions, observed=healthy_reads[i,:])\n",
    "    dirichlet_trace = pm.sample(draws=2000)\n",
    "    pm.traceplot(dirichlet_trace)"
   ]
  },
  {
   "cell_type": "code",
   "execution_count": null,
   "metadata": {
    "deletable": true,
    "editable": true
   },
   "outputs": [],
   "source": [
    "pm.summary(dirichlet_trace)"
   ]
  },
  {
   "cell_type": "code",
   "execution_count": null,
   "metadata": {
    "deletable": true,
    "editable": true
   },
   "outputs": [],
   "source": []
  }
 ],
 "metadata": {
  "kernelspec": {
   "display_name": "Python 3",
   "language": "python",
   "name": "python3"
  },
  "language_info": {
   "codemirror_mode": {
    "name": "ipython",
    "version": 3
   },
   "file_extension": ".py",
   "mimetype": "text/x-python",
   "name": "python",
   "nbconvert_exporter": "python",
   "pygments_lexer": "ipython3",
   "version": "3.6.0"
  }
 },
 "nbformat": 4,
 "nbformat_minor": 2
}
