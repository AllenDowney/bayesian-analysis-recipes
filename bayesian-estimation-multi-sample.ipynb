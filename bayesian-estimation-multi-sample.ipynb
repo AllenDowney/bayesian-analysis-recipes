{
 "cells": [
  {
   "cell_type": "code",
   "execution_count": 6,
   "metadata": {
    "collapsed": true,
    "deletable": true,
    "editable": true
   },
   "outputs": [],
   "source": [
    "import pymc3 as pm\n",
    "import pandas as pd\n",
    "import matplotlib \n",
    "\n",
    "%matplotlib inline"
   ]
  },
  {
   "cell_type": "markdown",
   "metadata": {
    "deletable": true,
    "editable": true
   },
   "source": [
    "Here, we make a few modeeling choices.\n",
    "\n",
    "1. We care only about the `normalized_measurement` column, and so we choose the t-distribution to model it, as we don't have a good \"mechanistic\" model that incorporates measurement error of OD600 and 'measurement'."
   ]
  },
  {
   "cell_type": "code",
   "execution_count": 7,
   "metadata": {
    "collapsed": false,
    "deletable": true,
    "editable": true
   },
   "outputs": [
    {
     "data": {
      "text/html": [
       "<div>\n",
       "<table border=\"1\" class=\"dataframe\">\n",
       "  <thead>\n",
       "    <tr style=\"text-align: right;\">\n",
       "      <th></th>\n",
       "      <th>experiment</th>\n",
       "      <th>isolate</th>\n",
       "      <th>ST</th>\n",
       "      <th>OD600</th>\n",
       "      <th>measurement</th>\n",
       "      <th>replicate</th>\n",
       "      <th>normalized_measurement</th>\n",
       "    </tr>\n",
       "  </thead>\n",
       "  <tbody>\n",
       "    <tr>\n",
       "      <th>0</th>\n",
       "      <td>1</td>\n",
       "      <td>1</td>\n",
       "      <td>4</td>\n",
       "      <td>0.461</td>\n",
       "      <td>0.317</td>\n",
       "      <td>1</td>\n",
       "      <td>0.687636</td>\n",
       "    </tr>\n",
       "    <tr>\n",
       "      <th>1</th>\n",
       "      <td>1</td>\n",
       "      <td>2</td>\n",
       "      <td>55</td>\n",
       "      <td>0.346</td>\n",
       "      <td>0.434</td>\n",
       "      <td>1</td>\n",
       "      <td>1.254335</td>\n",
       "    </tr>\n",
       "    <tr>\n",
       "      <th>2</th>\n",
       "      <td>1</td>\n",
       "      <td>3</td>\n",
       "      <td>55</td>\n",
       "      <td>0.356</td>\n",
       "      <td>0.917</td>\n",
       "      <td>1</td>\n",
       "      <td>2.575843</td>\n",
       "    </tr>\n",
       "    <tr>\n",
       "      <th>3</th>\n",
       "      <td>1</td>\n",
       "      <td>4</td>\n",
       "      <td>4</td>\n",
       "      <td>0.603</td>\n",
       "      <td>1.061</td>\n",
       "      <td>1</td>\n",
       "      <td>1.759536</td>\n",
       "    </tr>\n",
       "    <tr>\n",
       "      <th>4</th>\n",
       "      <td>1</td>\n",
       "      <td>5</td>\n",
       "      <td>330</td>\n",
       "      <td>0.444</td>\n",
       "      <td>3.701</td>\n",
       "      <td>1</td>\n",
       "      <td>8.335586</td>\n",
       "    </tr>\n",
       "  </tbody>\n",
       "</table>\n",
       "</div>"
      ],
      "text/plain": [
       "   experiment isolate   ST  OD600  measurement  replicate  \\\n",
       "0           1       1    4  0.461        0.317          1   \n",
       "1           1       2   55  0.346        0.434          1   \n",
       "2           1       3   55  0.356        0.917          1   \n",
       "3           1       4    4  0.603        1.061          1   \n",
       "4           1       5  330  0.444        3.701          1   \n",
       "\n",
       "   normalized_measurement  \n",
       "0                0.687636  \n",
       "1                1.254335  \n",
       "2                2.575843  \n",
       "3                1.759536  \n",
       "4                8.335586  "
      ]
     },
     "execution_count": 7,
     "metadata": {},
     "output_type": "execute_result"
    }
   ],
   "source": [
    "df = pd.read_csv('datasets/biofilm.csv')\n",
    "df.head()"
   ]
  },
  {
   "cell_type": "code",
   "execution_count": 8,
   "metadata": {
    "collapsed": false,
    "deletable": true,
    "editable": true
   },
   "outputs": [],
   "source": [
    "from sklearn.preprocessing import LabelEncoder\n",
    "\n",
    "le = LabelEncoder()\n",
    "le.fit(df['isolate'])\n",
    "df['indices'] = le.transform(df['isolate'])"
   ]
  },
  {
   "cell_type": "code",
   "execution_count": 9,
   "metadata": {
    "collapsed": false,
    "deletable": true,
    "editable": true
   },
   "outputs": [
    {
     "data": {
      "text/plain": [
       "array(['1', '10', '11', '12', '13', '14', '15', '2', '3', '4', '5', '6',\n",
       "       '7', '8', '9', 'ATCC_29212'], dtype=object)"
      ]
     },
     "execution_count": 9,
     "metadata": {},
     "output_type": "execute_result"
    }
   ],
   "source": [
    "le.classes_"
   ]
  },
  {
   "cell_type": "code",
   "execution_count": 10,
   "metadata": {
    "collapsed": false,
    "deletable": true,
    "editable": true
   },
   "outputs": [],
   "source": [
    "with pm.Model() as best:\n",
    "    nu = pm.Exponential('nu_minus_one', lam=1/30) + 1\n",
    "    \n",
    "    fold = pm.Flat('fold', shape=len(le.classes_))\n",
    "    \n",
    "    var = pm.HalfCauchy('var', beta=1, shape=len(le.classes_))\n",
    "    \n",
    "    mu = fold[df['indices']]\n",
    "    sd = var[df['indices']]\n",
    "    \n",
    "    like = pm.StudentT('like', mu=mu, sd=sd, nu=nu, observed=df['normalized_measurement'])"
   ]
  },
  {
   "cell_type": "code",
   "execution_count": 11,
   "metadata": {
    "collapsed": false,
    "deletable": true,
    "editable": true
   },
   "outputs": [
    {
     "name": "stderr",
     "output_type": "stream",
     "text": [
      "Auto-assigning NUTS sampler...\n",
      "Initializing NUTS using advi...\n",
      "Average ELBO = -59.142: 100%|██████████| 200000/200000 [00:20<00:00, 9910.69it/s] \n",
      "Finished [100%]: Average ELBO = -59.177\n",
      "100%|██████████| 2000/2000 [00:08<00:00, 228.52it/s]\n"
     ]
    }
   ],
   "source": [
    "with best:\n",
    "    trace = pm.sample(draws=2000)"
   ]
  },
  {
   "cell_type": "code",
   "execution_count": 12,
   "metadata": {
    "collapsed": false,
    "deletable": true,
    "editable": true,
    "scrolled": false
   },
   "outputs": [
    {
     "data": {
      "text/plain": [
       "<matplotlib.gridspec.GridSpec at 0x7f9889b2e1d0>"
      ]
     },
     "execution_count": 12,
     "metadata": {},
     "output_type": "execute_result"
    },
    {
     "data": {
      "image/png": "[encoded data removed]",
      "text/plain": [
       "<matplotlib.figure.Figure at 0x7f9889b2e358>"
      ]
     },
     "metadata": {},
     "output_type": "display_data"
    }
   ],
   "source": [
    "pm.forestplot(trace, varnames=['fold'], ylabels=le.classes_)"
   ]
  },
  {
   "cell_type": "code",
   "execution_count": null,
   "metadata": {
    "collapsed": true,
    "deletable": true,
    "editable": true
   },
   "outputs": [],
   "source": []
  }
 ],
 "metadata": {
  "kernelspec": {
   "display_name": "Python 3",
   "language": "python",
   "name": "python3"
  },
  "language_info": {
   "codemirror_mode": {
    "name": "ipython",
    "version": 3
   },
   "file_extension": ".py",
   "mimetype": "text/x-python",
   "name": "python",
   "nbconvert_exporter": "python",
   "pygments_lexer": "ipython3",
   "version": "3.6.0"
  }
 },
 "nbformat": 4,
 "nbformat_minor": 2
}
