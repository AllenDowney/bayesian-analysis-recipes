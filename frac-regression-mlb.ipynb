{
 "cells": [
  {
   "cell_type": "code",
   "execution_count": 2,
   "metadata": {
    "collapsed": false,
    "deletable": true,
    "editable": true
   },
   "outputs": [],
   "source": [
    "import pandas as pd\n",
    "import numpy as np\n",
    "import matplotlib.pyplot as plt\n",
    "import pymc3 as pm\n",
    "\n",
    "%matplotlib inline"
   ]
  },
  {
   "cell_type": "code",
   "execution_count": 3,
   "metadata": {
    "collapsed": false,
    "deletable": true,
    "editable": true
   },
   "outputs": [
    {
     "data": {
      "text/html": [
       "<div>\n",
       "<table border=\"1\" class=\"dataframe\">\n",
       "  <thead>\n",
       "    <tr style=\"text-align: right;\">\n",
       "      <th></th>\n",
       "      <th>Season</th>\n",
       "      <th>Team</th>\n",
       "      <th>Team Salary</th>\n",
       "      <th>Team Salary (in millions)</th>\n",
       "      <th>League</th>\n",
       "      <th>Wins</th>\n",
       "      <th>Losses</th>\n",
       "      <th>Winning %</th>\n",
       "      <th>AB</th>\n",
       "      <th>R</th>\n",
       "      <th>...</th>\n",
       "      <th>INN</th>\n",
       "      <th>TC</th>\n",
       "      <th>PO</th>\n",
       "      <th>A</th>\n",
       "      <th>E</th>\n",
       "      <th>DP</th>\n",
       "      <th>SBPCT</th>\n",
       "      <th>C_WP</th>\n",
       "      <th>FPCT</th>\n",
       "      <th>DER</th>\n",
       "    </tr>\n",
       "  </thead>\n",
       "  <tbody>\n",
       "    <tr>\n",
       "      <th>0</th>\n",
       "      <td>2016</td>\n",
       "      <td>Arizona Diamondbacks</td>\n",
       "      <td>103372186</td>\n",
       "      <td>103.4</td>\n",
       "      <td>NL</td>\n",
       "      <td>69</td>\n",
       "      <td>93</td>\n",
       "      <td>0.426</td>\n",
       "      <td>5665</td>\n",
       "      <td>752</td>\n",
       "      <td>...</td>\n",
       "      <td>13062</td>\n",
       "      <td>6118</td>\n",
       "      <td>4354</td>\n",
       "      <td>1663</td>\n",
       "      <td>101</td>\n",
       "      <td>143</td>\n",
       "      <td>0.643</td>\n",
       "      <td>69</td>\n",
       "      <td>0.983</td>\n",
       "      <td>0.667</td>\n",
       "    </tr>\n",
       "    <tr>\n",
       "      <th>1</th>\n",
       "      <td>2016</td>\n",
       "      <td>Atlanta Braves</td>\n",
       "      <td>122438633</td>\n",
       "      <td>122.4</td>\n",
       "      <td>NL</td>\n",
       "      <td>68</td>\n",
       "      <td>93</td>\n",
       "      <td>0.422</td>\n",
       "      <td>5514</td>\n",
       "      <td>649</td>\n",
       "      <td>...</td>\n",
       "      <td>13029</td>\n",
       "      <td>6009</td>\n",
       "      <td>4343</td>\n",
       "      <td>1565</td>\n",
       "      <td>101</td>\n",
       "      <td>134</td>\n",
       "      <td>0.841</td>\n",
       "      <td>83</td>\n",
       "      <td>0.983</td>\n",
       "      <td>0.694</td>\n",
       "    </tr>\n",
       "    <tr>\n",
       "      <th>2</th>\n",
       "      <td>2016</td>\n",
       "      <td>Baltimore Orioles</td>\n",
       "      <td>157201852</td>\n",
       "      <td>157.2</td>\n",
       "      <td>AL</td>\n",
       "      <td>89</td>\n",
       "      <td>73</td>\n",
       "      <td>0.549</td>\n",
       "      <td>5524</td>\n",
       "      <td>744</td>\n",
       "      <td>...</td>\n",
       "      <td>12888</td>\n",
       "      <td>5955</td>\n",
       "      <td>4296</td>\n",
       "      <td>1579</td>\n",
       "      <td>80</td>\n",
       "      <td>165</td>\n",
       "      <td>0.651</td>\n",
       "      <td>59</td>\n",
       "      <td>0.987</td>\n",
       "      <td>0.689</td>\n",
       "    </tr>\n",
       "    <tr>\n",
       "      <th>3</th>\n",
       "      <td>2016</td>\n",
       "      <td>Boston Red Sox</td>\n",
       "      <td>215316336</td>\n",
       "      <td>215.3</td>\n",
       "      <td>AL</td>\n",
       "      <td>93</td>\n",
       "      <td>69</td>\n",
       "      <td>0.574</td>\n",
       "      <td>5670</td>\n",
       "      <td>878</td>\n",
       "      <td>...</td>\n",
       "      <td>12957</td>\n",
       "      <td>5821</td>\n",
       "      <td>4319</td>\n",
       "      <td>1427</td>\n",
       "      <td>75</td>\n",
       "      <td>139</td>\n",
       "      <td>0.641</td>\n",
       "      <td>52</td>\n",
       "      <td>0.987</td>\n",
       "      <td>0.695</td>\n",
       "    </tr>\n",
       "    <tr>\n",
       "      <th>4</th>\n",
       "      <td>2016</td>\n",
       "      <td>Chicago Cubs</td>\n",
       "      <td>182235728</td>\n",
       "      <td>182.2</td>\n",
       "      <td>NL</td>\n",
       "      <td>103</td>\n",
       "      <td>58</td>\n",
       "      <td>0.640</td>\n",
       "      <td>5503</td>\n",
       "      <td>808</td>\n",
       "      <td>...</td>\n",
       "      <td>13137</td>\n",
       "      <td>6115</td>\n",
       "      <td>4379</td>\n",
       "      <td>1635</td>\n",
       "      <td>101</td>\n",
       "      <td>116</td>\n",
       "      <td>0.778</td>\n",
       "      <td>80</td>\n",
       "      <td>0.983</td>\n",
       "      <td>0.731</td>\n",
       "    </tr>\n",
       "  </tbody>\n",
       "</table>\n",
       "<p>5 rows × 45 columns</p>\n",
       "</div>"
      ],
      "text/plain": [
       "   Season                  Team  Team Salary  Team Salary (in millions)  \\\n",
       "0    2016  Arizona Diamondbacks    103372186                      103.4   \n",
       "1    2016        Atlanta Braves    122438633                      122.4   \n",
       "2    2016     Baltimore Orioles    157201852                      157.2   \n",
       "3    2016        Boston Red Sox    215316336                      215.3   \n",
       "4    2016          Chicago Cubs    182235728                      182.2   \n",
       "\n",
       "  League  Wins  Losses  Winning %    AB    R  ...      INN    TC    PO     A  \\\n",
       "0     NL    69      93      0.426  5665  752  ...    13062  6118  4354  1663   \n",
       "1     NL    68      93      0.422  5514  649  ...    13029  6009  4343  1565   \n",
       "2     AL    89      73      0.549  5524  744  ...    12888  5955  4296  1579   \n",
       "3     AL    93      69      0.574  5670  878  ...    12957  5821  4319  1427   \n",
       "4     NL   103      58      0.640  5503  808  ...    13137  6115  4379  1635   \n",
       "\n",
       "     E   DP  SBPCT  C_WP   FPCT    DER  \n",
       "0  101  143  0.643    69  0.983  0.667  \n",
       "1  101  134  0.841    83  0.983  0.694  \n",
       "2   80  165  0.651    59  0.987  0.689  \n",
       "3   75  139  0.641    52  0.987  0.695  \n",
       "4  101  116  0.778    80  0.983  0.731  \n",
       "\n",
       "[5 rows x 45 columns]"
      ]
     },
     "execution_count": 3,
     "metadata": {},
     "output_type": "execute_result"
    }
   ],
   "source": [
    "df = pd.read_csv('datasets/mlb_2013-2016.csv')\n",
    "df.head()"
   ]
  },
  {
   "cell_type": "code",
   "execution_count": 4,
   "metadata": {
    "collapsed": false,
    "deletable": true,
    "editable": true
   },
   "outputs": [],
   "source": [
    "import seaborn as sns"
   ]
  },
  {
   "cell_type": "code",
   "execution_count": 5,
   "metadata": {
    "collapsed": false,
    "deletable": true,
    "editable": true
   },
   "outputs": [
    {
     "data": {
      "text/plain": [
       "<matplotlib.axes._subplots.AxesSubplot at 0x7fab7824f390>"
      ]
     },
     "execution_count": 5,
     "metadata": {},
     "output_type": "execute_result"
    },
    {
     "data": {
      "image/png": "[encoded data removed]",
      "text/plain": [
       "<matplotlib.figure.Figure at 0x7fab7822ceb8>"
      ]
     },
     "metadata": {},
     "output_type": "display_data"
    }
   ],
   "source": [
    "# df.plot(kind='scatter', x='Season', y='Team Salary')\n",
    "sns.violinplot(x='Season', y='Team Salary', data=df)"
   ]
  },
  {
   "cell_type": "code",
   "execution_count": 6,
   "metadata": {
    "collapsed": false,
    "deletable": true,
    "editable": true
   },
   "outputs": [
    {
     "data": {
      "text/plain": [
       "Index(['Season', 'Team', 'Team Salary', 'Team Salary (in millions)', 'League',\n",
       "       'Wins', 'Losses', 'Winning %', 'AB', 'R', 'H', '2B', '3B', 'HR', 'RBI',\n",
       "       'BB', 'SO', 'SB', 'CS', 'AVG', 'OBP', 'SLG', 'OPS', 'ERA', 'SV', 'SVO',\n",
       "       'IP', 'Hit Allowed', 'Runs Allowed', 'ER Allowed', 'HR Allowed',\n",
       "       'BB Allowed', 'SO Pitched', 'AVG Allowed', 'WHIP', 'INN', 'TC', 'PO',\n",
       "       'A', 'E', 'DP', 'SBPCT', 'C_WP', 'FPCT', 'DER'],\n",
       "      dtype='object')"
      ]
     },
     "execution_count": 6,
     "metadata": {},
     "output_type": "execute_result"
    }
   ],
   "source": [
    "df.columns"
   ]
  },
  {
   "cell_type": "code",
   "execution_count": 7,
   "metadata": {
    "collapsed": false,
    "deletable": true,
    "editable": true
   },
   "outputs": [],
   "source": [
    "# Let's predict 'Winning %' from the rest of the columns.\n",
    "cols = list(df.columns)\n",
    "cols.remove('Season')\n",
    "cols.remove('Team')\n",
    "cols.remove('Team Salary (in millions)')\n",
    "cols.remove('League')\n",
    "cols.remove('Wins')\n",
    "cols.remove('Losses')\n",
    "\n",
    "feat_cols = list(set(cols) - set(['Winning %']))\n",
    "y_cols = ['Winning %']"
   ]
  },
  {
   "cell_type": "code",
   "execution_count": 8,
   "metadata": {
    "collapsed": false,
    "deletable": true,
    "editable": true,
    "scrolled": true
   },
   "outputs": [
    {
     "data": {
      "text/plain": [
       "['Team Salary',\n",
       " '3B',\n",
       " 'INN',\n",
       " 'C_WP',\n",
       " 'WHIP',\n",
       " 'HR',\n",
       " 'OBP',\n",
       " 'AVG',\n",
       " 'SLG',\n",
       " 'AVG Allowed',\n",
       " 'BB Allowed',\n",
       " 'TC',\n",
       " 'E',\n",
       " 'AB',\n",
       " 'HR Allowed',\n",
       " 'H',\n",
       " 'CS',\n",
       " 'SVO',\n",
       " 'SO Pitched',\n",
       " 'SBPCT',\n",
       " 'SV',\n",
       " 'IP',\n",
       " 'R',\n",
       " '2B',\n",
       " 'DP',\n",
       " 'Hit Allowed',\n",
       " 'ERA',\n",
       " 'ER Allowed',\n",
       " 'BB',\n",
       " 'DER',\n",
       " 'SO',\n",
       " 'Runs Allowed',\n",
       " 'SB',\n",
       " 'RBI',\n",
       " 'OPS',\n",
       " 'FPCT',\n",
       " 'PO',\n",
       " 'A']"
      ]
     },
     "execution_count": 8,
     "metadata": {},
     "output_type": "execute_result"
    }
   ],
   "source": [
    "feat_cols"
   ]
  },
  {
   "cell_type": "code",
   "execution_count": 18,
   "metadata": {
    "collapsed": false,
    "deletable": true,
    "editable": true
   },
   "outputs": [],
   "source": [
    "import theano.tensor as tt\n",
    "with pm.Model() as model:\n",
    "    weights = pm.Normal('weights', mu=0, sd=100**2, shape=(len(feat_cols),))\n",
    "    perc_losses = tt.dot(weights, df[feat_cols].T)\n",
    "    alpha = 1\n",
    "    beta = 1 / perc_losses\n",
    "    like = pm.Beta('likelihood', alpha=alpha, beta=beta, observed=df[y_cols])"
   ]
  },
  {
   "cell_type": "code",
   "execution_count": null,
   "metadata": {
    "collapsed": false,
    "deletable": true,
    "editable": true,
    "scrolled": true
   },
   "outputs": [
    {
     "name": "stderr",
     "output_type": "stream",
     "text": [
      "Auto-assigning NUTS sampler...\n",
      "Initializing NUTS using advi...\n",
      "\n",
      "  0%|          | 0/200000 [00:00<?, ?it/s]\u001b[A\n",
      "  0%|          | 547/200000 [00:00<00:36, 5460.76it/s]\u001b[A\n",
      "  1%|          | 1088/200000 [00:00<00:36, 5443.26it/s]\u001b[A\n",
      "  1%|          | 1637/200000 [00:00<00:36, 5455.44it/s]\u001b[A\n",
      "  1%|          | 2185/200000 [00:00<00:36, 5462.10it/s]\u001b[A\n",
      "  1%|▏         | 2725/200000 [00:00<00:36, 5441.66it/s]\u001b[A\n",
      "  2%|▏         | 3259/200000 [00:00<00:36, 5410.25it/s]\u001b[A\n",
      "  2%|▏         | 3800/200000 [00:00<00:36, 5407.99it/s]\u001b[A\n",
      "  2%|▏         | 4335/200000 [00:00<00:36, 5388.93it/s]\u001b[A\n",
      "  2%|▏         | 4875/200000 [00:00<00:36, 5389.96it/s]\u001b[A\n",
      "  3%|▎         | 5413/200000 [00:01<00:36, 5384.21it/s]\u001b[A\n",
      "  3%|▎         | 5950/200000 [00:01<00:36, 5377.47it/s]\u001b[A\n",
      "  3%|▎         | 6486/200000 [00:01<00:36, 5371.01it/s]\u001b[A\n",
      "  4%|▎         | 7022/200000 [00:01<00:35, 5365.80it/s]\u001b[A\n",
      "  4%|▍         | 7555/200000 [00:01<00:35, 5348.49it/s]\u001b[A\n",
      "  4%|▍         | 8091/200000 [00:01<00:35, 5351.13it/s]\u001b[A\n",
      "  4%|▍         | 8627/200000 [00:01<00:35, 5352.97it/s]\u001b[A\n",
      "  5%|▍         | 9162/200000 [00:01<00:35, 5349.21it/s]\u001b[A\n",
      "  5%|▍         | 9697/200000 [00:01<00:35, 5348.97it/s]\u001b[A\n",
      "  5%|▌         | 10236/200000 [00:01<00:35, 5359.06it/s]\u001b[A\n",
      "  5%|▌         | 10774/200000 [00:02<00:35, 5363.17it/s]\u001b[A\n",
      "  6%|▌         | 11311/200000 [00:02<00:35, 5362.72it/s]\u001b[A\n",
      "  6%|▌         | 11847/200000 [00:02<00:35, 5357.81it/s]\u001b[A\n",
      "  6%|▌         | 12384/200000 [00:02<00:34, 5361.03it/s]\u001b[A\n",
      "  6%|▋         | 12923/200000 [00:02<00:34, 5369.49it/s]\u001b[A\n",
      "  7%|▋         | 13460/200000 [00:02<00:34, 5362.90it/s]\u001b[A\n",
      "  7%|▋         | 13997/200000 [00:02<00:34, 5316.13it/s]\u001b[A\n",
      "  7%|▋         | 14533/200000 [00:02<00:34, 5328.97it/s]\u001b[A\n",
      "  8%|▊         | 15074/200000 [00:02<00:34, 5350.21it/s]\u001b[A\n",
      "  8%|▊         | 15610/200000 [00:02<00:34, 5344.28it/s]\u001b[A\n",
      "  8%|▊         | 16149/200000 [00:03<00:34, 5356.85it/s]\u001b[A\n",
      "  8%|▊         | 16687/200000 [00:03<00:34, 5362.16it/s]\u001b[A\n",
      "  9%|▊         | 17224/200000 [00:03<00:34, 5361.67it/s]\u001b[A\n",
      "  9%|▉         | 17761/200000 [00:03<00:34, 5351.44it/s]\u001b[A\n",
      "  9%|▉         | 18298/200000 [00:03<00:33, 5355.82it/s]\u001b[A\n",
      "  9%|▉         | 18835/200000 [00:03<00:33, 5357.82it/s]\u001b[A\n",
      " 10%|▉         | 19371/200000 [00:03<00:33, 5357.85it/s]\u001b[A\n",
      " 10%|▉         | 19908/200000 [00:03<00:33, 5360.67it/s]\u001b[A\n",
      "Average ELBO = -inf:  10%|█         | 20445/200000 [00:03<00:33, 5361.71it/s]\u001b[A\n",
      "Average ELBO = -inf:  10%|█         | 20982/200000 [00:03<00:33, 5351.67it/s]\u001b[A\n",
      "Average ELBO = -inf:  11%|█         | 21522/200000 [00:04<00:33, 5363.43it/s]\u001b[A\n",
      "Average ELBO = -inf:  11%|█         | 22059/200000 [00:04<00:33, 5363.59it/s]\u001b[A\n",
      "Average ELBO = -inf:  11%|█▏        | 22596/200000 [00:04<00:33, 5360.16it/s]\u001b[A\n",
      "Average ELBO = -inf:  12%|█▏        | 23133/200000 [00:04<00:33, 5358.87it/s]\u001b[A\n",
      "Average ELBO = -inf:  12%|█▏        | 23670/200000 [00:04<00:32, 5348.69it/s]\u001b[A\n",
      "Average ELBO = -inf:  12%|█▏        | 24208/200000 [00:04<00:32, 5353.64it/s]\u001b[A\n",
      "Average ELBO = -inf:  12%|█▏        | 24744/200000 [00:04<00:32, 5352.90it/s]\u001b[A\n",
      "Average ELBO = -inf:  13%|█▎        | 25280/200000 [00:04<00:32, 5340.54it/s]\u001b[A\n",
      "Average ELBO = -inf:  13%|█▎        | 25818/200000 [00:04<00:32, 5351.59it/s]\u001b[A\n",
      "Average ELBO = -inf:  13%|█▎        | 26357/200000 [00:04<00:32, 5360.98it/s]\u001b[A\n",
      "Average ELBO = -inf:  13%|█▎        | 26896/200000 [00:05<00:32, 5367.91it/s]\u001b[A\n",
      "Average ELBO = -inf:  14%|█▎        | 27434/200000 [00:05<00:32, 5370.89it/s]\u001b[A\n",
      "Average ELBO = -inf:  14%|█▍        | 27972/200000 [00:05<00:32, 5371.42it/s]\u001b[A\n",
      "Average ELBO = -inf:  14%|█▍        | 28510/200000 [00:05<00:31, 5369.92it/s]\u001b[A\n",
      "Average ELBO = -inf:  22%|██▏       | 44157/200000 [00:08<00:28, 5385.83it/s]"
     ]
    }
   ],
   "source": [
    "with model:\n",
    "    trace = pm.sample(2000)"
   ]
  },
  {
   "cell_type": "code",
   "execution_count": 17,
   "metadata": {
    "collapsed": false,
    "deletable": true,
    "editable": true
   },
   "outputs": [
    {
     "data": {
      "text/plain": [
       "array([[<matplotlib.axes._subplots.AxesSubplot object at 0x7fab5eb64f60>,\n",
       "        <matplotlib.axes._subplots.AxesSubplot object at 0x7fab4cc356a0>]], dtype=object)"
      ]
     },
     "execution_count": 17,
     "metadata": {},
     "output_type": "execute_result"
    },
    {
     "data": {
      "image/png": "[encoded data removed]",
      "text/plain": [
       "<matplotlib.figure.Figure at 0x7fab5d39c6a0>"
      ]
     },
     "metadata": {},
     "output_type": "display_data"
    }
   ],
   "source": [
    "pm.traceplot(trace)"
   ]
  },
  {
   "cell_type": "code",
   "execution_count": null,
   "metadata": {
    "collapsed": true,
    "deletable": true,
    "editable": true
   },
   "outputs": [],
   "source": []
  }
 ],
 "metadata": {
  "kernelspec": {
   "display_name": "Python 3",
   "language": "python",
   "name": "python3"
  },
  "language_info": {
   "codemirror_mode": {
    "name": "ipython",
    "version": 3
   },
   "file_extension": ".py",
   "mimetype": "text/x-python",
   "name": "python",
   "nbconvert_exporter": "python",
   "pygments_lexer": "ipython3",
   "version": "3.6.0"
  }
 },
 "nbformat": 4,
 "nbformat_minor": 2
}
