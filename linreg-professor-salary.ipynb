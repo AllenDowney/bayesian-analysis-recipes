{
 "cells": [
  {
   "cell_type": "markdown",
   "metadata": {
    "deletable": true,
    "editable": true
   },
   "source": [
    "# Linear Regression\n",
    "\n",
    "In this notebook, we will use data from [here](http://data.princeton.edu/wws509/datasets/#salary), in which we want to see whether there's discrimination in professor salaries or not."
   ]
  },
  {
   "cell_type": "code",
   "execution_count": null,
   "metadata": {
    "deletable": true,
    "editable": true
   },
   "outputs": [],
   "source": [
    "import pymc3 as pm\n",
    "import pandas as pd\n",
    "%matplotlib inline"
   ]
  },
  {
   "cell_type": "markdown",
   "metadata": {
    "deletable": true,
    "editable": true
   },
   "source": [
    "The data are from [here][datasource], and have the following columns:\n",
    "\n",
    "Independent variables:\n",
    "\n",
    "- `sx`: the biological sex of the professor.\n",
    "    - 0 for male\n",
    "    - 1 for female\n",
    "- `rk`: the rank of the professor.\n",
    "    - 1 for assistant professor\n",
    "    - 2 for associate professor\n",
    "    - 3 for full professor\n",
    "- `dg`: the highest degree attained\n",
    "    - 0 for masters degree\n",
    "    - 1 for doctorate degre\n",
    "- `yd`: years since degree obtained. Essentially an 'experience' term.\n",
    "\n",
    "Dependent variables:\n",
    "\n",
    "- `sl`: annual salary\n",
    "\n",
    "[datasource]: http://data.princeton.edu/wws509/datasets/#salary\n",
    "\n",
    "Let's read in the data and do some preprocessing to make all of the data numerical."
   ]
  },
  {
   "cell_type": "code",
   "execution_count": null,
   "metadata": {
    "deletable": true,
    "editable": true
   },
   "outputs": [],
   "source": [
    "# Read in the data\n",
    "df = pd.read_csv('professor-salary.txt')\n",
    "\n",
    "def replace_sx(sex):\n",
    "    \"\"\"\n",
    "    This function codes the biological sex of the professor.\n",
    "    \"\"\"\n",
    "    if sex == 'male':\n",
    "        return 0\n",
    "    elif sex == 'female':\n",
    "        return 1\n",
    "    \n",
    "def replace_rk(rank):\n",
    "    \"\"\"\n",
    "    This function codes the highest rank attained.\n",
    "    \"\"\"\n",
    "    if rank == 'full':\n",
    "        return 3\n",
    "    elif rank == 'associate':\n",
    "        return 2\n",
    "    elif rank == 'assistant':\n",
    "        return 1\n",
    "    \n",
    "def replace_dg(degree):\n",
    "    \"\"\"\n",
    "    This function codes the highest degree earned.\n",
    "    \"\"\"\n",
    "    if degree == 'doctorate':\n",
    "        return 1\n",
    "    elif degree == 'masters':\n",
    "        return 0\n",
    "\n",
    "# Perform variable numerical encoding.\n",
    "df['sx'] = df['sx'].apply(lambda x: replace_sx(x))\n",
    "df['rk'] = df['rk'].apply(lambda x: replace_rk(x))\n",
    "df['dg'] = df['dg'].apply(lambda x: replace_dg(x))\n",
    "\n",
    "# Preview the data\n",
    "df.head()"
   ]
  },
  {
   "cell_type": "markdown",
   "metadata": {
    "deletable": true,
    "editable": true
   },
   "source": [
    "## Model\n",
    "\n",
    "We will perform linear regression on the salary data. Here's some of the modelling choices that go into this.\n",
    "\n",
    "1. Choice of priors:\n",
    "    1. Intercept: Normal distribution. Very wide.\n",
    "    1. Errors: Can only be positive, therefore use HalfNormal distribution, again, very wide.\n",
    "1. Choices for salary likelihood function:\n",
    "    1. The salary is modelled as a linear combination of the independent variables.\n",
    "    1. We assume that the salary is going to be normally distributed around the linear combination of independent variables with the same variance around the expected value.\n",
    "    \n",
    "That is how we get the code below."
   ]
  },
  {
   "cell_type": "code",
   "execution_count": null,
   "metadata": {
    "deletable": true,
    "editable": true
   },
   "outputs": [],
   "source": [
    "import numpy as np\n",
    "import theano.tensor as tt\n",
    "\n",
    "X = df[['sx', 'rk', 'yr', 'dg', 'yd']]\n",
    "\n",
    "with pm.Model() as model:\n",
    "\n",
    "    intercept = pm.Normal('intercept', mu=0, sd=100**2)\n",
    "    error = pm.HalfNormal('error', sd=100**2)\n",
    "\n",
    "    b = pm.Normal('betas', mu=0, sd=100**2, shape=(5,1))\n",
    "    sl = b[0] * df['sx'] + b[1] * df['rk'] + b[2] * df['yr'] + b[3] * df['dg'] + b[4] * df['yd'] + intercept\n",
    "    sl_like = pm.Normal('likelihood', mu=sl, sd=error, observed=df['sl'])"
   ]
  },
  {
   "cell_type": "markdown",
   "metadata": {
    "deletable": true,
    "editable": true
   },
   "source": [
    "With the recipe above, you'll have a general starting point for linear regressions (and its variants, e.g. poisson regression). The key idea, which you'll see later on, is swapping out the likelihood function.\n",
    "\n",
    "The awesome PyMC3 developers provide also a GLM module that lets you write the above more concisely:\n",
    "\n",
    "```python\n",
    "with pm.Model() as model:\n",
    "    pm.glm.glm('sl ~ sx + rk + yr + dg + yd', df)\n",
    "```\n",
    "\n",
    "However, I have given you the more verbose version, as I want you to see the code at the level of abstraction that will let you flexibly modify the model as you need it.\n",
    "\n",
    "Borrowing shamelessly from Thomas Wiecki, we hit the Inference Button (TM) below."
   ]
  },
  {
   "cell_type": "code",
   "execution_count": null,
   "metadata": {
    "deletable": true,
    "editable": true
   },
   "outputs": [],
   "source": [
    "with model:\n",
    "    trace = pm.sample(draws=10000)"
   ]
  },
  {
   "cell_type": "markdown",
   "metadata": {
    "deletable": true,
    "editable": true
   },
   "source": [
    "Let's visualize the traceplots."
   ]
  },
  {
   "cell_type": "code",
   "execution_count": null,
   "metadata": {
    "deletable": true,
    "editable": true
   },
   "outputs": [],
   "source": [
    "pm.traceplot(trace)"
   ]
  },
  {
   "cell_type": "markdown",
   "metadata": {
    "deletable": true,
    "editable": true
   },
   "source": [
    "The traceplots give us a visual diagnostic on the convergence of the MCMC sampler. The ADVI initialization gets us pretty darn close to the places of highest likelihood. Sampling converges pretty soon after, so let's use a **burn-in** of ~1000 steps and re-check."
   ]
  },
  {
   "cell_type": "code",
   "execution_count": null,
   "metadata": {
    "deletable": true,
    "editable": true
   },
   "outputs": [],
   "source": [
    "burnin = 1000\n",
    "pm.traceplot(trace[burnin:])"
   ]
  },
  {
   "cell_type": "markdown",
   "metadata": {
    "deletable": true,
    "editable": true
   },
   "source": [
    "Should be pretty clear - very good convergence. Let's look at a forestplot of the inferred variables."
   ]
  },
  {
   "cell_type": "code",
   "execution_count": null,
   "metadata": {
    "deletable": true,
    "editable": true
   },
   "outputs": [],
   "source": [
    "pm.forestplot(trace, varnames=['betas', 'intercept', 'error'], ylabels=list(X.columns)+['baseline']+['error'])"
   ]
  },
  {
   "cell_type": "markdown",
   "metadata": {
    "deletable": true,
    "editable": true
   },
   "source": [
    "The interpretation here is as such. \n",
    "\n",
    "Given the data on hand, \n",
    "\n",
    "- a professor's baseline salary is in the range of `[8938.388, 13412.605]` dollars\n",
    "- every increase in rank gives `[4229.681, 6932.360]` dollars increase in salary\n",
    "- females earn `[-622.682, 3015.976]` more dollars than males\n",
    "- every extra year of work earns the professor `[285.197, 671.300]` in salary\n",
    "- having an advanced degree earns the professor `[-3242.757, 852.116]` in salary\n",
    "- every year away from the degree earned earns the professor `[-282.419, 31.174]` in salary.\n",
    "\n",
    "Overall, being female, attaining rank and accumulating years of work provide a net expectation of increase in salary.\n",
    "\n",
    "See the MCMC summary statistics for how I obtained the numbers above."
   ]
  },
  {
   "cell_type": "code",
   "execution_count": null,
   "metadata": {
    "deletable": true,
    "editable": true
   },
   "outputs": [],
   "source": [
    "pm.summary(trace[burnin:])"
   ]
  },
  {
   "cell_type": "code",
   "execution_count": null,
   "metadata": {
    "deletable": true,
    "editable": true
   },
   "outputs": [],
   "source": []
  }
 ],
 "metadata": {
  "kernelspec": {
   "display_name": "Python 3",
   "language": "python",
   "name": "python3"
  },
  "language_info": {
   "codemirror_mode": {
    "name": "ipython",
    "version": 3
   },
   "file_extension": ".py",
   "mimetype": "text/x-python",
   "name": "python",
   "nbconvert_exporter": "python",
   "pygments_lexer": "ipython3",
   "version": "3.6.0"
  }
 },
 "nbformat": 4,
 "nbformat_minor": 2
}
