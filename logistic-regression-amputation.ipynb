{
 "cells": [
  {
   "cell_type": "code",
   "execution_count": null,
   "metadata": {
    "deletable": true,
    "editable": true
   },
   "outputs": [],
   "source": [
    "import pymc3 as pm\n",
    "import matplotlib.pyplot as plt\n",
    "import pandas as pd\n",
    "import numpy as np\n",
    "import theano.tensor as tt\n",
    "\n",
    "%matplotlib inline"
   ]
  },
  {
   "cell_type": "code",
   "execution_count": null,
   "metadata": {
    "deletable": true,
    "editable": true
   },
   "outputs": [],
   "source": [
    "data = pd.read_csv('datasets/antiseptic-amputation.csv', header=None)\n",
    "data.columns = ['subject', 'year', 'antiseptic', 'limb', 'outcome']\n",
    "data.set_index('subject', inplace=True)\n",
    "\n",
    "# Data normalization\n",
    "data['year'] = data['year'] - data['year'].min()\n",
    "data.head()"
   ]
  },
  {
   "cell_type": "markdown",
   "metadata": {},
   "source": [
    "The logistic function is defined as\n",
    "\n",
    "$$ p = \\frac{1}{1 + e^{-k}}$$\n",
    "\n",
    "Here, the $k$ term refers to:\n",
    "\n",
    "$$ k = \\beta_{n}x_{1} + \\beta_{2}x_{2} + ... + \\beta_{n}x_{n} $$\n",
    "\n",
    "Therefore, we will write it in as such"
   ]
  },
  {
   "cell_type": "code",
   "execution_count": null,
   "metadata": {
    "deletable": true,
    "editable": true
   },
   "outputs": [],
   "source": [
    "with pm.Model() as model:   \n",
    "    betas = pm.Normal('betas', mu=0, sd=100**2, shape=(3,1))\n",
    "    # betas = pm.Normal('betas', mu=0, sd=100**2)\n",
    "    x = betas[0] * data['year'] + betas[1] * data['antiseptic'] + betas[2] * data['limb']\n",
    "    # x = data['antiseptic']\n",
    "    \n",
    "    prob = 1 / (1 + np.exp(-x))\n",
    "    prob_like = pm.Bernoulli('likelihood', p=prob, observed=data['outcome'])"
   ]
  },
  {
   "cell_type": "code",
   "execution_count": null,
   "metadata": {
    "deletable": true,
    "editable": true
   },
   "outputs": [],
   "source": [
    "with model:\n",
    "    trace = pm.sample(draws=2000)"
   ]
  },
  {
   "cell_type": "code",
   "execution_count": null,
   "metadata": {
    "deletable": true,
    "editable": true
   },
   "outputs": [],
   "source": [
    "pm.forestplot(trace, ylabels=['year', 'antiseptic', 'limb'])"
   ]
  },
  {
   "cell_type": "markdown",
   "metadata": {
    "deletable": true,
    "editable": true
   },
   "source": [
    "The use of antiseptics, as we can see, has the greatest effect on survival."
   ]
  },
  {
   "cell_type": "code",
   "execution_count": null,
   "metadata": {},
   "outputs": [],
   "source": []
  }
 ],
 "metadata": {
  "kernelspec": {
   "display_name": "Python 3",
   "language": "python",
   "name": "python3"
  },
  "language_info": {
   "codemirror_mode": {
    "name": "ipython",
    "version": 3
   },
   "file_extension": ".py",
   "mimetype": "text/x-python",
   "name": "python",
   "nbconvert_exporter": "python",
   "pygments_lexer": "ipython3",
   "version": "3.6.0"
  }
 },
 "nbformat": 4,
 "nbformat_minor": 2
}
