{
 "cells": [
  {
   "cell_type": "code",
   "execution_count": 1,
   "metadata": {
    "ExecuteTime": {
     "end_time": "2017-08-01T20:23:32.629657Z",
     "start_time": "2017-08-01T20:23:27.283182Z"
    }
   },
   "outputs": [
    {
     "name": "stderr",
     "output_type": "stream",
     "text": [
      "WARNING (theano.sandbox.cuda): The cuda backend is deprecated and will be removed in the next release (v0.10).  Please switch to the gpuarray backend. You can get more information about how to switch at this URL:\n",
      " https://github.com/Theano/Theano/wiki/Converting-to-the-new-gpu-back-end%28gpuarray%29\n",
      "\n",
      "Using gpu device 0: GeForce GTX 1080 (CNMeM is disabled, cuDNN Mixed dnn version. The header is from one version, but we link with a different version (5110, 6021))\n"
     ]
    }
   ],
   "source": [
    "%load_ext autoreload\n",
    "%autoreload 2\n",
    "%matplotlib inline\n",
    "%config InlineBackend.figure_format = 'retina'\n",
    "\n",
    "import pymc3 as pm\n",
    "import numpy as np\n",
    "import theano.tensor as tt\n",
    "import theano\n",
    "import matplotlib.pyplot as plt\n",
    "import pandas as pd\n",
    "from sklearn.preprocessing import OneHotEncoder\n",
    "from pymc3.backends import HDF5, text"
   ]
  },
  {
   "cell_type": "code",
   "execution_count": 2,
   "metadata": {
    "ExecuteTime": {
     "end_time": "2017-08-01T20:23:32.643057Z",
     "start_time": "2017-08-01T20:23:32.630858Z"
    }
   },
   "outputs": [
    {
     "data": {
      "text/plain": [
       "'0.9.0.dev-c697eeab84e5b8a74908da654b66ec9eca4f1291'"
      ]
     },
     "execution_count": 2,
     "metadata": {},
     "output_type": "execute_result"
    }
   ],
   "source": [
    "theano.__version__"
   ]
  },
  {
   "cell_type": "markdown",
   "metadata": {},
   "source": [
    "# Introduction\n",
    "\n",
    "I'd like to try doing multiclass classification with a deep neural network. The network architecture is a feed-forward network with one hidden layer in between the input and output; `n_hidden` units is a hyperparameter."
   ]
  },
  {
   "cell_type": "markdown",
   "metadata": {},
   "source": [
    "# Model Specification\n",
    "\n",
    "Because neural networks are the highlight here, I will first do the model specification up-front."
   ]
  },
  {
   "cell_type": "code",
   "execution_count": 3,
   "metadata": {
    "ExecuteTime": {
     "end_time": "2017-08-01T20:23:32.677559Z",
     "start_time": "2017-08-01T20:23:32.644060Z"
    },
    "collapsed": true
   },
   "outputs": [],
   "source": [
    "def make_nn(ann_input, ann_output, n_hidden):\n",
    "    \"\"\"\n",
    "    Makes a feed forward neural network with n_hidden layers for doing multi-\n",
    "    class classification.\n",
    "    \n",
    "    Feed-forward networks are easy to define, so I have not relied on any \n",
    "    other Deep Learning frameworks to define the neural network here.\n",
    "    \"\"\"\n",
    "    init_1 = np.random.randn(ann_input.shape[1], n_hidden)\n",
    "    init_2 = np.random.randn(n_hidden, n_hidden)\n",
    "    init_out = np.random.randn(n_hidden, ann_output.shape[1])\n",
    "    \n",
    "    with pm.Model() as nn_model:\n",
    "        # Define weights\n",
    "        weights_1 = pm.Normal('w_1', mu=0, sd=1, \n",
    "                              shape=(ann_input.shape[1], n_hidden),\n",
    "                              testval=init_1)\n",
    "        weights_2 = pm.Normal('w_2', mu=0, sd=1,\n",
    "                              shape=(n_hidden, n_hidden),\n",
    "                              testval=init_2)\n",
    "        weights_out = pm.Normal('w_out', mu=0, sd=1, \n",
    "                                shape=(n_hidden, ann_output.shape[1]),\n",
    "                                testval=init_out)\n",
    "\n",
    "        # Define activations\n",
    "        acts_1 = pm.Deterministic('activations_1', \n",
    "                                  tt.tanh(tt.dot(ann_input, weights_1)))\n",
    "        acts_2 = pm.Deterministic('activations_2', \n",
    "                                  tt.tanh(tt.dot(acts_1, weights_2)))\n",
    "        acts_out = pm.Deterministic('activations_out', \n",
    "                                    tt.nnet.softmax(tt.dot(acts_2, weights_out)))  # noqa\n",
    "        \n",
    "        # Define likelihood\n",
    "        out = pm.Multinomial('likelihood', n=1, p=acts_out, \n",
    "                             observed=ann_output)\n",
    "        \n",
    "    return nn_model"
   ]
  },
  {
   "cell_type": "markdown",
   "metadata": {},
   "source": [
    "# Preprocess Data\n",
    "\n",
    "## Basic Cleaning\n",
    "\n",
    "Now, let's read in the dataset. There's a bunch of preprocessing that has to happen. I happened to have this code written for the IACS 2017 data science bootcamp, and copied it over from there. It's commented out because it takes some time to execute, and if executed once, it needn't be executed again."
   ]
  },
  {
   "cell_type": "code",
   "execution_count": 4,
   "metadata": {
    "ExecuteTime": {
     "end_time": "2017-08-01T20:23:32.697299Z",
     "start_time": "2017-08-01T20:23:32.678655Z"
    },
    "collapsed": true
   },
   "outputs": [],
   "source": [
    "# df = pd.read_csv('datasets/covtype.data', header=None)\n",
    "\n",
    "# columns = [\n",
    "#     'Elevation',\n",
    "#     'Aspect',\n",
    "#     'Slope',\n",
    "#     'Horizontal_Distance_To_Hydrology',\n",
    "#     'Vertical_Distance_To_Hydrology',\n",
    "#     'Horizontal_Distance_To_Roadways',\n",
    "#     'Hillshade_9am',\n",
    "#     'Hillshade_Noon',\n",
    "#     'Hillshade_3pm',\n",
    "#     'Horizontal_Distance_To_Fire_Points'\n",
    "# ]\n",
    "\n",
    "# # Add in wilderness area data (binary)\n",
    "# for i in range(1, 5):\n",
    "#     columns.append('Wilderness_Area_{0}'.format(i))\n",
    "    \n",
    "# # Add in soil type data (binary)\n",
    "# for i in range(1, 41):\n",
    "#     columns.append('Soil_Type_{0}'.format(i))\n",
    "\n",
    "# # Add in soil cover type\n",
    "# columns.append('Cover_Type')\n",
    "\n",
    "# df.columns = columns\n",
    "\n",
    "# # Add in soil codes. These were downloaded from the UCI repository.\n",
    "# soil_codes = pd.read_csv('datasets/climatic_geologic_zone.csv')\n",
    "# soil_dict = soil_codes.set_index('soil_type').to_dict()\n",
    "\n",
    "# # Add geologic and climatic zone code to soil type\n",
    "# for i in range(1, 41):\n",
    "#     df.loc[df['Soil_Type_{i}'.format(i=i)] == 1, 'Climatic_Zone'] = soil_dict['climatic_zone'][i]\n",
    "#     df.loc[df['Soil_Type_{i}'.format(i=i)] == 1, 'Geologic_Zone'] = soil_dict['geologic_zone'][i]\n",
    "    \n",
    "# # Encode one-of-K for the geologic zone, climatic zone, and cover_type encodings.\n",
    "# # This is important because the geologic and climatic zones aren't ordinal - they are strictly categorical.\n",
    "# enc = OneHotEncoder()\n",
    "# clm_zone_enc = enc.fit_transform(df['Climatic_Zone'].values.reshape(-1, 1)).toarray()\n",
    "# geo_zone_enc = enc.fit_transform(df['Geologic_Zone'].values.reshape(-1, 1)).toarray()\n",
    "# cov_type_enc = enc.fit_transform(df['Cover_Type'].values.reshape(-1, 1)).toarray()\n",
    "\n",
    "# for i in range(clm_zone_enc.shape[1]):\n",
    "#     df['Climatic_Zone_{i}'.format(i=i)] = clm_zone_enc[:, i]\n",
    "\n",
    "# for i in range(geo_zone_enc.shape[1]):\n",
    "#     df['Geologic_Zone_{i}'.format(i=i)] = geo_zone_enc[:, i]\n",
    "    \n",
    "# del df['Climatic_Zone']\n",
    "# del df['Geologic_Zone']\n",
    "\n",
    "# df.to_csv('datasets/covtype_preprocess.csv')\n"
   ]
  },
  {
   "cell_type": "code",
   "execution_count": 5,
   "metadata": {
    "ExecuteTime": {
     "end_time": "2017-08-01T20:23:34.443561Z",
     "start_time": "2017-08-01T20:23:32.698371Z"
    }
   },
   "outputs": [
    {
     "data": {
      "text/plain": [
       "(581012, 66)"
      ]
     },
     "execution_count": 5,
     "metadata": {},
     "output_type": "execute_result"
    }
   ],
   "source": [
    "df = pd.read_csv('datasets/covtype_preprocess.csv', index_col=0)\n",
    "df.shape"
   ]
  },
  {
   "cell_type": "markdown",
   "metadata": {},
   "source": [
    "Let's now make the X and Y matrices. We use patsy to give us a quick and fast way to turn categorical variables into one-of-K columns."
   ]
  },
  {
   "cell_type": "code",
   "execution_count": 6,
   "metadata": {
    "ExecuteTime": {
     "end_time": "2017-08-01T20:23:34.687344Z",
     "start_time": "2017-08-01T20:23:34.444949Z"
    },
    "collapsed": true
   },
   "outputs": [],
   "source": [
    "df['Cover_Type'] = df['Cover_Type'].apply(lambda x: str(x))"
   ]
  },
  {
   "cell_type": "code",
   "execution_count": 7,
   "metadata": {
    "ExecuteTime": {
     "end_time": "2017-08-01T20:23:37.978700Z",
     "start_time": "2017-08-01T20:23:34.688786Z"
    }
   },
   "outputs": [
    {
     "name": "stdout",
     "output_type": "stream",
     "text": [
      "(581012, 66) (581012, 7)\n"
     ]
    }
   ],
   "source": [
    "output_col = 'Cover_Type'\n",
    "input_cols = [c for c in df.columns if c != output_col]\n",
    "input_formula = ''.join(c + ' + ' for c in input_cols)\n",
    "input_formula = input_formula + '-1'\n",
    "\n",
    "import patsy\n",
    "from sklearn.preprocessing import scale, normalize\n",
    "X = patsy.dmatrix(formula_like=input_formula, \n",
    "                  data=df, \n",
    "                  return_type='dataframe')\n",
    "# X = normalize(X)\n",
    "\n",
    "Y = patsy.dmatrix(formula_like='Cover_Type -1',\n",
    "                  data=df,\n",
    "                  return_type='dataframe')\n",
    "print(X.shape, Y.shape)"
   ]
  },
  {
   "cell_type": "code",
   "execution_count": 8,
   "metadata": {
    "ExecuteTime": {
     "end_time": "2017-08-01T20:23:38.004658Z",
     "start_time": "2017-08-01T20:23:37.980135Z"
    },
    "scrolled": true
   },
   "outputs": [
    {
     "data": {
      "text/html": [
       "<div>\n",
       "<style>\n",
       "    .dataframe thead tr:only-child th {\n",
       "        text-align: right;\n",
       "    }\n",
       "\n",
       "    .dataframe thead th {\n",
       "        text-align: left;\n",
       "    }\n",
       "\n",
       "    .dataframe tbody tr th {\n",
       "        vertical-align: top;\n",
       "    }\n",
       "</style>\n",
       "<table border=\"1\" class=\"dataframe\">\n",
       "  <thead>\n",
       "    <tr style=\"text-align: right;\">\n",
       "      <th></th>\n",
       "      <th>Cover_Type[1]</th>\n",
       "      <th>Cover_Type[2]</th>\n",
       "      <th>Cover_Type[3]</th>\n",
       "      <th>Cover_Type[4]</th>\n",
       "      <th>Cover_Type[5]</th>\n",
       "      <th>Cover_Type[6]</th>\n",
       "      <th>Cover_Type[7]</th>\n",
       "    </tr>\n",
       "  </thead>\n",
       "  <tbody>\n",
       "    <tr>\n",
       "      <th>0</th>\n",
       "      <td>0.0</td>\n",
       "      <td>0.0</td>\n",
       "      <td>0.0</td>\n",
       "      <td>0.0</td>\n",
       "      <td>1.0</td>\n",
       "      <td>0.0</td>\n",
       "      <td>0.0</td>\n",
       "    </tr>\n",
       "    <tr>\n",
       "      <th>1</th>\n",
       "      <td>0.0</td>\n",
       "      <td>0.0</td>\n",
       "      <td>0.0</td>\n",
       "      <td>0.0</td>\n",
       "      <td>1.0</td>\n",
       "      <td>0.0</td>\n",
       "      <td>0.0</td>\n",
       "    </tr>\n",
       "    <tr>\n",
       "      <th>2</th>\n",
       "      <td>0.0</td>\n",
       "      <td>1.0</td>\n",
       "      <td>0.0</td>\n",
       "      <td>0.0</td>\n",
       "      <td>0.0</td>\n",
       "      <td>0.0</td>\n",
       "      <td>0.0</td>\n",
       "    </tr>\n",
       "    <tr>\n",
       "      <th>3</th>\n",
       "      <td>0.0</td>\n",
       "      <td>1.0</td>\n",
       "      <td>0.0</td>\n",
       "      <td>0.0</td>\n",
       "      <td>0.0</td>\n",
       "      <td>0.0</td>\n",
       "      <td>0.0</td>\n",
       "    </tr>\n",
       "    <tr>\n",
       "      <th>4</th>\n",
       "      <td>0.0</td>\n",
       "      <td>0.0</td>\n",
       "      <td>0.0</td>\n",
       "      <td>0.0</td>\n",
       "      <td>1.0</td>\n",
       "      <td>0.0</td>\n",
       "      <td>0.0</td>\n",
       "    </tr>\n",
       "  </tbody>\n",
       "</table>\n",
       "</div>"
      ],
      "text/plain": [
       "   Cover_Type[1]  Cover_Type[2]  Cover_Type[3]  Cover_Type[4]  Cover_Type[5]  \\\n",
       "0            0.0            0.0            0.0            0.0            1.0   \n",
       "1            0.0            0.0            0.0            0.0            1.0   \n",
       "2            0.0            1.0            0.0            0.0            0.0   \n",
       "3            0.0            1.0            0.0            0.0            0.0   \n",
       "4            0.0            0.0            0.0            0.0            1.0   \n",
       "\n",
       "   Cover_Type[6]  Cover_Type[7]  \n",
       "0            0.0            0.0  \n",
       "1            0.0            0.0  \n",
       "2            0.0            0.0  \n",
       "3            0.0            0.0  \n",
       "4            0.0            0.0  "
      ]
     },
     "execution_count": 8,
     "metadata": {},
     "output_type": "execute_result"
    }
   ],
   "source": [
    "Y.head()"
   ]
  },
  {
   "cell_type": "markdown",
   "metadata": {},
   "source": [
    "## Balance Classes\n",
    "\n",
    "We will balance out the classes to make them evenly distributed."
   ]
  },
  {
   "cell_type": "code",
   "execution_count": 9,
   "metadata": {
    "ExecuteTime": {
     "end_time": "2017-08-01T20:23:38.538067Z",
     "start_time": "2017-08-01T20:23:38.006139Z"
    },
    "collapsed": true
   },
   "outputs": [],
   "source": [
    "from sklearn.preprocessing import MinMaxScaler\n",
    "\n",
    "downsampled_targets = []\n",
    "\n",
    "for i in range(1, 7+1):\n",
    "    # print(f'target[{i}]')\n",
    "    target = Y[Y['Cover_Type[{i}]'.format(i=i)] == 1]\n",
    "    # print(len(target))\n",
    "    downsampled_targets.append(target.sample(2747))\n",
    "    \n",
    "mms = MinMaxScaler()\n",
    "X_tfm = pm.floatX(mms.fit_transform(X[input_cols]))\n",
    "\n",
    "Y_downsamp = pd.concat(downsampled_targets)\n",
    "Y_downsamp = pm.floatX(Y_downsamp)\n",
    "X_downsamp = X_tfm[Y_downsamp.index]\n",
    "X_downsamp = pm.floatX(X_downsamp)"
   ]
  },
  {
   "cell_type": "code",
   "execution_count": 10,
   "metadata": {
    "ExecuteTime": {
     "end_time": "2017-08-01T20:23:38.551166Z",
     "start_time": "2017-08-01T20:23:38.539500Z"
    }
   },
   "outputs": [
    {
     "data": {
      "text/plain": [
       "dtype('float32')"
      ]
     },
     "execution_count": 10,
     "metadata": {},
     "output_type": "execute_result"
    }
   ],
   "source": [
    "X_downsamp.dtype"
   ]
  },
  {
   "cell_type": "code",
   "execution_count": 11,
   "metadata": {
    "ExecuteTime": {
     "end_time": "2017-08-01T20:23:38.564765Z",
     "start_time": "2017-08-01T20:23:38.552116Z"
    }
   },
   "outputs": [
    {
     "data": {
      "text/plain": [
       "((19229, 65), (19229, 7))"
      ]
     },
     "execution_count": 11,
     "metadata": {},
     "output_type": "execute_result"
    }
   ],
   "source": [
    "X_downsamp.shape, Y_downsamp.shape"
   ]
  },
  {
   "cell_type": "code",
   "execution_count": 12,
   "metadata": {
    "ExecuteTime": {
     "end_time": "2017-08-01T20:23:38.576912Z",
     "start_time": "2017-08-01T20:23:38.565808Z"
    },
    "collapsed": true
   },
   "outputs": [],
   "source": [
    "n_hidden = 20  # define the number of hidden units"
   ]
  },
  {
   "cell_type": "markdown",
   "metadata": {
    "variables": {
     "n_hidden": "20"
    }
   },
   "source": [
    "# Model Execution\n",
    "\n",
    "We now make the model with {{n_hidden}} hidden units."
   ]
  },
  {
   "cell_type": "code",
   "execution_count": 13,
   "metadata": {
    "ExecuteTime": {
     "end_time": "2017-08-01T20:23:39.357250Z",
     "start_time": "2017-08-01T20:23:38.589898Z"
    }
   },
   "outputs": [
    {
     "name": "stderr",
     "output_type": "stream",
     "text": [
      "/home/ericmjl/anaconda/envs/bayesian/lib/python3.6/site-packages/theano/tensor/basic.py:2146: UserWarning: theano.tensor.round() changed its default from `half_away_from_zero` to `half_to_even` to have the same default as NumPy. Use the Theano flag `warn.round=False` to disable this warning.\n",
      "  \"theano.tensor.round() changed its default from\"\n"
     ]
    }
   ],
   "source": [
    "model = make_nn(X_downsamp, Y_downsamp, n_hidden=n_hidden)"
   ]
  },
  {
   "cell_type": "code",
   "execution_count": 14,
   "metadata": {
    "ExecuteTime": {
     "end_time": "2017-08-01T20:45:30.420276Z",
     "start_time": "2017-08-01T20:23:39.358557Z"
    },
    "scrolled": true
   },
   "outputs": [
    {
     "name": "stderr",
     "output_type": "stream",
     "text": [
      "Average Loss = 13,590: 100%|██████████| 200000/200000 [20:56<00:00, 159.13it/s]  \n",
      "Finished [100%]: Average Loss = 13,590\n"
     ]
    }
   ],
   "source": [
    "with model:\n",
    "    s = theano.shared(pm.floatX(1.1))\n",
    "    inference = pm.ADVI(cost_part_grad_scale=s)\n",
    "    approx = pm.fit(200000, method=inference)"
   ]
  },
  {
   "cell_type": "code",
   "execution_count": 15,
   "metadata": {
    "ExecuteTime": {
     "end_time": "2017-08-01T20:45:30.436188Z",
     "start_time": "2017-08-01T20:45:30.421660Z"
    }
   },
   "outputs": [
    {
     "data": {
      "image/png": "[encoded data removed]",
      "text/plain": [
       "<matplotlib.figure.Figure at 0x7f03bba957f0>"
      ]
     },
     "metadata": {
      "image/png": {
       "height": 250,
       "width": 377
      }
     },
     "output_type": "display_data"
    }
   ],
   "source": [
    "plt.plot(inference.hist)\n",
    "plt.yscale('log')"
   ]
  },
  {
   "cell_type": "code",
   "execution_count": 16,
   "metadata": {
    "ExecuteTime": {
     "end_time": "2017-08-01T20:45:34.837163Z",
     "start_time": "2017-08-01T20:45:30.437467Z"
    },
    "collapsed": true
   },
   "outputs": [],
   "source": [
    "with model:\n",
    "    trace = approx.sample(1000)"
   ]
  },
  {
   "cell_type": "code",
   "execution_count": 17,
   "metadata": {
    "ExecuteTime": {
     "end_time": "2017-08-01T20:45:34.854225Z",
     "start_time": "2017-08-01T20:45:34.838791Z"
    },
    "collapsed": true
   },
   "outputs": [],
   "source": [
    "# pm.traceplot(trace, varnames=['w_1'])"
   ]
  },
  {
   "cell_type": "code",
   "execution_count": 18,
   "metadata": {
    "ExecuteTime": {
     "end_time": "2017-08-01T20:45:34.869787Z",
     "start_time": "2017-08-01T20:45:34.855486Z"
    },
    "collapsed": true
   },
   "outputs": [],
   "source": [
    "# pm.traceplot(trace, varnames=['w_2'])"
   ]
  },
  {
   "cell_type": "code",
   "execution_count": 19,
   "metadata": {
    "ExecuteTime": {
     "end_time": "2017-08-01T20:45:34.885359Z",
     "start_time": "2017-08-01T20:45:34.871104Z"
    },
    "collapsed": true,
    "scrolled": false
   },
   "outputs": [],
   "source": [
    "# pm.traceplot(trace, varnames=['w_out'])"
   ]
  },
  {
   "cell_type": "code",
   "execution_count": 27,
   "metadata": {
    "ExecuteTime": {
     "end_time": "2017-08-01T20:45:39.918149Z",
     "start_time": "2017-08-01T20:45:34.886648Z"
    },
    "scrolled": true
   },
   "outputs": [
    {
     "name": "stderr",
     "output_type": "stream",
     "text": [
      "100%|██████████| 1000/1000 [00:35<00:00, 28.06it/s]\n"
     ]
    }
   ],
   "source": [
    "with model:\n",
    "    samp_ppc = pm.sample_ppc(trace, samples=1000)"
   ]
  },
  {
   "cell_type": "markdown",
   "metadata": {},
   "source": [
    "# Results"
   ]
  },
  {
   "cell_type": "code",
   "execution_count": 41,
   "metadata": {},
   "outputs": [
    {
     "data": {
      "text/plain": [
       "array([[ 0.47569478,  0.47633779,  0.        , ...,  0.        ,\n",
       "         0.        ,  0.04467675],\n",
       "       [ 0.47820914,  0.4805778 ,  0.        , ...,  0.05469006,\n",
       "         0.07053383,  0.        ],\n",
       "       [ 0.44801491,  0.44550037,  0.        , ...,  0.03160704,\n",
       "         0.        ,  0.06311885],\n",
       "       ..., \n",
       "       [ 0.09949901,  0.03160711,  0.        , ...,  0.        ,\n",
       "         0.        ,  0.10430279],\n",
       "       [ 0.44186392,  0.20058906,  0.        , ...,  0.        ,\n",
       "         0.        ,  0.46166706],\n",
       "       [ 0.22798035,  0.07053305,  0.        , ...,  0.        ,\n",
       "         0.03160716,  0.23932883]], dtype=float32)"
      ]
     },
     "execution_count": 41,
     "metadata": {},
     "output_type": "execute_result"
    }
   ],
   "source": []
  },
  {
   "cell_type": "code",
   "execution_count": 45,
   "metadata": {
    "ExecuteTime": {
     "end_time": "2017-08-01T20:45:43.478375Z",
     "start_time": "2017-08-01T20:45:39.919723Z"
    }
   },
   "outputs": [
    {
     "data": {
      "image/png": "[encoded data removed]",
      "text/plain": [
       "<matplotlib.figure.Figure at 0x7f02915dfba8>"
      ]
     },
     "metadata": {
      "image/png": {
       "height": 250,
       "width": 391
      }
     },
     "output_type": "display_data"
    }
   ],
   "source": [
    "preds_proba = samp_ppc['likelihood'].mean(axis=0)\n",
    "preds = (preds_proba == np.max(preds_proba, axis=1, keepdims=True)) * 1\n",
    "plt.pcolor(preds)\n",
    "plt.savefig('figures/class_predictions.png', dpi=600)"
   ]
  },
  {
   "cell_type": "code",
   "execution_count": 48,
   "metadata": {},
   "outputs": [
    {
     "data": {
      "image/png": "[encoded data removed]",
      "text/plain": [
       "<matplotlib.figure.Figure at 0x7f0287830710>"
      ]
     },
     "metadata": {
      "image/png": {
       "height": 250,
       "width": 391
      }
     },
     "output_type": "display_data"
    }
   ],
   "source": [
    "plt.pcolor(preds_proba)\n",
    "plt.savefig('figures/class_probabilities.png', dpi=600)"
   ]
  },
  {
   "cell_type": "code",
   "execution_count": 47,
   "metadata": {},
   "outputs": [
    {
     "data": {
      "image/png": "[encoded data removed]",
      "text/plain": [
       "<matplotlib.figure.Figure at 0x7f028c727320>"
      ]
     },
     "metadata": {
      "image/png": {
       "height": 250,
       "width": 391
      }
     },
     "output_type": "display_data"
    }
   ],
   "source": [
    "plt.pcolor(samp_ppc['likelihood'].std(axis=0))\n",
    "plt.savefig('figures/class_uncertainties.png', dpi=600)"
   ]
  },
  {
   "cell_type": "code",
   "execution_count": 29,
   "metadata": {
    "ExecuteTime": {
     "end_time": "2017-08-01T20:45:43.544291Z",
     "start_time": "2017-08-01T20:45:43.479498Z"
    }
   },
   "outputs": [
    {
     "name": "stdout",
     "output_type": "stream",
     "text": [
      "             precision    recall  f1-score   support\n",
      "\n",
      "          0       0.71      0.68      0.69      2747\n",
      "          1       0.70      0.57      0.63      2747\n",
      "          2       0.71      0.68      0.69      2747\n",
      "          3       0.88      0.94      0.91      2747\n",
      "          4       0.81      0.91      0.85      2747\n",
      "          5       0.72      0.74      0.73      2747\n",
      "          6       0.90      0.94      0.92      2747\n",
      "\n",
      "avg / total       0.77      0.78      0.77     19229\n",
      "\n"
     ]
    }
   ],
   "source": [
    "from sklearn.metrics import classification_report\n",
    "\n",
    "print(classification_report(Y_downsamp, preds))"
   ]
  },
  {
   "cell_type": "markdown",
   "metadata": {},
   "source": [
    "Compared to the logistic regression notebook, we have higher performance!"
   ]
  },
  {
   "cell_type": "markdown",
   "metadata": {
    "collapsed": true
   },
   "source": [
    "# Estimate Uncertainty in Proportions"
   ]
  },
  {
   "cell_type": "code",
   "execution_count": 33,
   "metadata": {},
   "outputs": [
    {
     "data": {
      "text/plain": [
       "(array([  1.92180000e+04,   0.00000000e+00,   0.00000000e+00,\n",
       "          0.00000000e+00,   0.00000000e+00,   0.00000000e+00,\n",
       "          0.00000000e+00,   0.00000000e+00,   0.00000000e+00,\n",
       "          1.10000000e+01]),\n",
       " array([ 0.34992711,  0.36010979,  0.37029248,  0.38047516,  0.39065784,\n",
       "         0.40084053,  0.41102321,  0.4212059 ,  0.43138858,  0.44157127,\n",
       "         0.45175395]),\n",
       " <a list of 10 Patch objects>)"
      ]
     },
     "execution_count": 33,
     "metadata": {},
     "output_type": "execute_result"
    },
    {
     "data": {
      "image/png": "[encoded data removed]",
      "text/plain": [
       "<matplotlib.figure.Figure at 0x7f02a018c588>"
      ]
     },
     "metadata": {
      "image/png": {
       "height": 250,
       "width": 390
      }
     },
     "output_type": "display_data"
    }
   ],
   "source": [
    "plt.hist(preds.std(axis=1))"
   ]
  },
  {
   "cell_type": "code",
   "execution_count": null,
   "metadata": {
    "collapsed": true
   },
   "outputs": [],
   "source": []
  }
 ],
 "metadata": {
  "kernelspec": {
   "display_name": "bayesian",
   "language": "python",
   "name": "bayesian"
  },
  "language_info": {
   "codemirror_mode": {
    "name": "ipython",
    "version": 3
   },
   "file_extension": ".py",
   "mimetype": "text/x-python",
   "name": "python",
   "nbconvert_exporter": "python",
   "pygments_lexer": "ipython3",
   "version": "3.6.3"
  },
  "toc": {
   "colors": {
    "hover_highlight": "#DAA520",
    "navigate_num": "#000000",
    "navigate_text": "#333333",
    "running_highlight": "#FF0000",
    "selected_highlight": "#FFD700",
    "sidebar_border": "#EEEEEE",
    "wrapper_background": "#FFFFFF"
   },
   "moveMenuLeft": true,
   "nav_menu": {
    "height": "138px",
    "width": "252px"
   },
   "navigate_menu": true,
   "number_sections": true,
   "sideBar": true,
   "threshold": 4,
   "toc_cell": false,
   "toc_position": {
    "height": "593px",
    "left": "0px",
    "right": "1122px",
    "top": "106px",
    "width": "158px"
   },
   "toc_section_display": "block",
   "toc_window_display": true,
   "widenNotebook": false
  }
 },
 "nbformat": 4,
 "nbformat_minor": 2
}
